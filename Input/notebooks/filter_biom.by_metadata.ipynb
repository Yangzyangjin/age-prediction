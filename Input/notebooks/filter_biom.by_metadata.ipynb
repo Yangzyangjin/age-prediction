{
 "cells": [
  {
   "cell_type": "code",
   "execution_count": 2,
   "metadata": {},
   "outputs": [
    {
     "name": "stdout",
     "output_type": "stream",
     "text": [
      "/Users/huangshi/MyProjects/CMI-IBM/age-prediction/Input/notebooks\r\n"
     ]
    }
   ],
   "source": [
    "! pwd"
   ]
  },
  {
   "cell_type": "code",
   "execution_count": 15,
   "metadata": {},
   "outputs": [
    {
     "data": {
      "text/plain": [
       "'/Users/huangshi/MyProjects/CMI-IBM/Datasets/skin_data/skin_4168.biom'"
      ]
     },
     "execution_count": 15,
     "metadata": {},
     "output_type": "execute_result"
    }
   ],
   "source": [
    "import pandas as pd\n",
    "import os\n",
    "import biom\n",
    "md_path='/Users/huangshi/MyProjects/CMI-IBM/Datasets/skin_data/skin_4168_map.txt'\n",
    "biom_path='/Users/huangshi/MyProjects/CMI-IBM/Datasets/skin_data/skin_4168.biom'\n",
    "md_path\n",
    "biom_path"
   ]
  },
  {
   "cell_type": "code",
   "execution_count": 16,
   "metadata": {},
   "outputs": [
    {
     "name": "stderr",
     "output_type": "stream",
     "text": [
      "/Users/huangshi/anaconda3/envs/qiime2-2019.7/lib/python3.6/site-packages/IPython/core/interactiveshell.py:3058: DtypeWarning: Columns (79,124,162,294,338,384,536,595,599,627,631,678,757,765,813,841,844,862,968,999,1072,1084,1085) have mixed types. Specify dtype option on import or set low_memory=False.\n",
      "  interactivity=interactivity, compiler=compiler, result=result)\n"
     ]
    },
    {
     "data": {
      "text/plain": [
       "(4168, 1100)"
      ]
     },
     "execution_count": 16,
     "metadata": {},
     "output_type": "execute_result"
    }
   ],
   "source": [
    "md = pd.read_csv(md_path, index_col=0, sep='\\t')\n",
    "md.shape"
   ]
  },
  {
   "cell_type": "code",
   "execution_count": 17,
   "metadata": {},
   "outputs": [
    {
     "data": {
      "text/plain": [
       "133046 x 4168 <class 'biom.table.Table'> with 1532103 nonzero entries (0% dense)"
      ]
     },
     "execution_count": 17,
     "metadata": {},
     "output_type": "execute_result"
    }
   ],
   "source": [
    "bt=biom.load_table(biom_path)\n",
    "bt"
   ]
  },
  {
   "cell_type": "code",
   "execution_count": 18,
   "metadata": {},
   "outputs": [
    {
     "name": "stderr",
     "output_type": "stream",
     "text": [
      "/Users/huangshi/anaconda3/envs/qiime2-2019.7/lib/python3.6/site-packages/IPython/core/interactiveshell.py:3058: DtypeWarning: Columns (124,384,841,844,968) have mixed types. Specify dtype option on import or set low_memory=False.\n",
      "  interactivity=interactivity, compiler=compiler, result=result)\n"
     ]
    },
    {
     "data": {
      "text/plain": [
       "(1975, 1100)"
      ]
     },
     "execution_count": 18,
     "metadata": {},
     "output_type": "execute_result"
    }
   ],
   "source": [
    "md1 = pd.read_csv('../skin_data/skin_1975_map.txt', index_col=0, sep='\\t')\n",
    "md1.shape"
   ]
  },
  {
   "cell_type": "code",
   "execution_count": 19,
   "metadata": {},
   "outputs": [
    {
     "name": "stdout",
     "output_type": "stream",
     "text": [
      "['10317.000003638' '2150.F06482' '1841.F06478' ... '2150.F06006'\n",
      " '1841.F05094' '2150.F06002']\n"
     ]
    }
   ],
   "source": [
    "print(bt.ids()) "
   ]
  },
  {
   "cell_type": "code",
   "execution_count": 20,
   "metadata": {},
   "outputs": [
    {
     "name": "stdout",
     "output_type": "stream",
     "text": [
      "Index(['10317.000003638', '1841.F06478', '1841.F06479', '1841.F06476',\n",
      "       '1841.F06474', '1841.F06472', '1841.F06471', '10317.000087026',\n",
      "       '1841.F05357', '10317.000049806',\n",
      "       ...\n",
      "       '2010.1260', '1841.P16533', '1841.P16534', '1841.P16535', '1841.P16536',\n",
      "       '1841.F05416', '1841.F05822', '10317.000009725', '10317.000009722',\n",
      "       '1841.F05094'],\n",
      "      dtype='object', name='#SampleID', length=1975)\n"
     ]
    }
   ],
   "source": [
    "print(md1.index)"
   ]
  },
  {
   "cell_type": "code",
   "execution_count": 21,
   "metadata": {},
   "outputs": [
    {
     "data": {
      "text/plain": [
       "133046 x 1975 <class 'biom.table.Table'> with 749808 nonzero entries (0% dense)"
      ]
     },
     "execution_count": 21,
     "metadata": {},
     "output_type": "execute_result"
    }
   ],
   "source": [
    "ids=md1.index.tolist()\n",
    "new_bt = bt.filter(ids, axis='sample', inplace=False)\n",
    "new_bt"
   ]
  },
  {
   "cell_type": "code",
   "execution_count": 22,
   "metadata": {},
   "outputs": [
    {
     "data": {
      "text/plain": [
       "116068 x 1975 <class 'biom.table.Table'> with 749808 nonzero entries (0% dense)"
      ]
     },
     "execution_count": 22,
     "metadata": {},
     "output_type": "execute_result"
    }
   ],
   "source": [
    "new_bt\n",
    "new_bt.remove_empty(axis='observation', inplace=True)"
   ]
  },
  {
   "cell_type": "code",
   "execution_count": 23,
   "metadata": {},
   "outputs": [],
   "source": [
    "from biom.util import biom_open\n",
    "with biom_open('../skin_data/skin_1975.biom', 'w') as f:  \n",
    "    new_bt.to_hdf5(f, \"example\")"
   ]
  },
  {
   "cell_type": "code",
   "execution_count": null,
   "metadata": {},
   "outputs": [],
   "source": []
  }
 ],
 "metadata": {
  "kernelspec": {
   "display_name": "Python [conda env:qiime2-2019.7]",
   "language": "python",
   "name": "conda-env-qiime2-2019.7-py"
  },
  "language_info": {
   "codemirror_mode": {
    "name": "ipython",
    "version": 3
   },
   "file_extension": ".py",
   "mimetype": "text/x-python",
   "name": "python",
   "nbconvert_exporter": "python",
   "pygments_lexer": "ipython3",
   "version": "3.6.7"
  }
 },
 "nbformat": 4,
 "nbformat_minor": 2
}
